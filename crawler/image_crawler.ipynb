{
 "cells": [
  {
   "cell_type": "code",
   "execution_count": 1,
   "metadata": {},
   "outputs": [],
   "source": [
    "import requests\n",
    "from lxml import etree\n",
    "import sqlalchemy\n",
    "from sqlalchemy import create_engine, Integer, String, ForeignKey, MetaData, Text, Column, Date\n",
    "from sqlalchemy.ext.declarative import declarative_base\n",
    "from sqlalchemy.orm import sessionmaker\n",
    "import urllib\n",
    "import urllib.request\n",
    "import os"
   ]
  },
  {
   "cell_type": "code",
   "execution_count": 2,
   "metadata": {},
   "outputs": [],
   "source": [
    "engine = create_engine(\"sqlite:///project.db\", echo = False)\n",
    "base = declarative_base()\n",
    "Session  = sessionmaker(bind=engine)\n",
    "session = Session()"
   ]
  },
  {
   "cell_type": "code",
   "execution_count": 3,
   "metadata": {},
   "outputs": [],
   "source": [
    "class Item(base):\n",
    "    __tablename__ = \"Item\"\n",
    "    __table_args__= {'extend_existing': True} \n",
    "    id = Column(Integer, primary_key = True)\n",
    "    agentName = Column(String)\n",
    "    appReferenceNumber = Column(String)\n",
    "    applicantName = Column(Text)\n",
    "    applicationDate = Column(String)\n",
    "    applicationNumber = Column(String)\n",
    "    applicationStatus = Column(String)\n",
    "    bigDrawing = Column(String)\n",
    "    classificationCode = Column(String)\n",
    "    drawing = Column(String)\n",
    "    fullText = Column(String)\n",
    "    indexNo = Column(Integer)\n",
    "    internationalRegisterDate = Column(String)\n",
    "    internationalRegisterNumber = Column(String)\n",
    "    priorityDate = Column(String)\n",
    "    priorityNumber = Column(String)\n",
    "    publicationDate = Column(String)\n",
    "    publicationNumber = Column(String)\n",
    "    regPrivilegeName = Column(String)\n",
    "    regReferenceNumber = Column(String)\n",
    "    registrationDate = Column(String)\n",
    "    registrationNumber = Column(String)\n",
    "    registrationPublicDate = Column(String)\n",
    "    registrationPublicNumber = Column(String)\n",
    "    title = Column(Text)\n",
    "    viennaCode = Column(String)\n",
    "#스키마 생성\n",
    "base.metadata.create_all(engine)\n",
    "seed = \"http://kipo-api.kipi.or.kr/openapi/service/trademarkInfoSearchService/getAdvancedSearch?numOfRows=2500&application=true&registration=true&refused=true&expiration=true&withdrawal=true&publication=true&cancel=true&abandonment=true&trademark=true&serviceMark=true&trademarkServiceMark=true&businessEmblem=true&collectiveMark=true&internationalMark=true&character=true&figure=true&compositionCharacter=true&figureComposition=true&freeSearch=?\""
   ]
  },
  {
   "cell_type": "code",
   "execution_count": 4,
   "metadata": {},
   "outputs": [],
   "source": [
    "#db에 잘 들어갔는지 확인\n",
    "test = session.query(Item)\n",
    "item_list = test.all()\n",
    "#len(item_list)\n",
    "#이렇게 접근\n",
    "# item_list[0].bigDrawing"
   ]
  },
  {
   "cell_type": "code",
   "execution_count": 5,
   "metadata": {},
   "outputs": [],
   "source": [
    "opener = urllib.request.build_opener()\n",
    "opener.addheaders = [('user-agent', 'Mozilla/5.0 (Windows NT 10.0; Win64; x64) AppleWebKit/537.36 (KHTML, like Gecko) Chrome/68.0.3440.106 Safari/537.36')]\n",
    "urllib.request.install_opener(opener)"
   ]
  },
  {
   "cell_type": "code",
   "execution_count": 6,
   "metadata": {},
   "outputs": [],
   "source": [
    "# for item in item_list:\n",
    "#     urllib.request.urlretrieve(item.drawing, './img/'+item.applicationNumber+'.jpg')"
   ]
  },
  {
   "cell_type": "code",
   "execution_count": null,
   "metadata": {},
   "outputs": [],
   "source": [
    "i = 0\n",
    "cnt = 0\n",
    "start = 380000\n",
    "end = 390000\n",
    "while(int(item_list[i].id)<end):\n",
    "    try :\n",
    "        cnt = sum([len(files) for r, d, files in os.walk(\"log/id_\")])\n",
    "        for i in range(start+cnt,end):\n",
    "            urllib.request.urlretrieve(item_list[i].drawing, 'picture/'+item_list[i].applicationNumber+'.png')\n",
    "    except urllib.error.URLError :\n",
    "        continue\n",
    "    except TypeError :\n",
    "        start += 1\n",
    "        continue\n",
    "        \n",
    "   "
   ]
  },
  {
   "cell_type": "code",
   "execution_count": 134,
   "metadata": {},
   "outputs": [],
   "source": [
    "# 폴더 안의 파일 수 계산\n",
    "# cpt = sum([len(files) for r, d, files in os.walk(\"C:/Users/kim/Documents/BigdataXCampus/project/image/id-35000-39999\")])"
   ]
  },
  {
   "cell_type": "code",
   "execution_count": 21,
   "metadata": {},
   "outputs": [],
   "source": [
    "#45000+23087 68087"
   ]
  },
  {
   "cell_type": "code",
   "execution_count": null,
   "metadata": {},
   "outputs": [],
   "source": [
    "     #   cnt = sum([len(files) for r, d, files in os.walk(\"C:/Users/kim/Documents/BigdataXCampus/project/image/id-68089-95000\")])"
   ]
  }
 ],
 "metadata": {
  "kernelspec": {
   "display_name": "Python 3",
   "language": "python",
   "name": "python3"
  },
  "language_info": {
   "codemirror_mode": {
    "name": "ipython",
    "version": 3
   },
   "file_extension": ".py",
   "mimetype": "text/x-python",
   "name": "python",
   "nbconvert_exporter": "python",
   "pygments_lexer": "ipython3",
   "version": "3.7.3"
  }
 },
 "nbformat": 4,
 "nbformat_minor": 2
}
